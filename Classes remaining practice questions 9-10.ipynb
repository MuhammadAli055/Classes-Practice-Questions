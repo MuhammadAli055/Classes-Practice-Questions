{
 "cells": [
  {
   "cell_type": "markdown",
   "id": "1b57107d",
   "metadata": {},
   "source": [
    "# Create a class Shape with a method to calculate area. Create subclasses Circle, Rectangle, and Triangle that inherit from Shape and implement their specific area calculations."
   ]
  },
  {
   "cell_type": "code",
   "execution_count": 11,
   "id": "44871824",
   "metadata": {},
   "outputs": [
    {
     "name": "stdout",
     "output_type": "stream",
     "text": [
      "Circle area: 78.53981633974483\n",
      "Rectangle area: 24\n",
      "Triangle area: 7.5\n"
     ]
    }
   ],
   "source": [
    "\n",
    "import math\n",
    "\n",
    "class Shape:\n",
    "    def area(self):\n",
    "        pass\n",
    "\n",
    "class Circle(Shape):\n",
    "    def __init__(self, radius):\n",
    "        self.radius = radius\n",
    "\n",
    "    def area(self):\n",
    "        return math.pi * self.radius ** 2\n",
    "\n",
    "class Rectangle(Shape):\n",
    "    def __init__(self, width, height):\n",
    "        self.width = width\n",
    "        self.height = height\n",
    "\n",
    "    def area(self):\n",
    "        return self.width * self.height\n",
    "\n",
    "class Triangle(Shape):\n",
    "    def __init__(self, base, height):\n",
    "        self.base = base\n",
    "        self.height = height\n",
    "\n",
    "    def area(self):\n",
    "        return 0.5 * self.base * self.height\n",
    "\n",
    "circle = Circle(5)\n",
    "rectangle = Rectangle(4, 6)\n",
    "triangle = Triangle(3, 5)\n",
    "\n",
    "print(\"Circle area:\", circle.area())\n",
    "print(\"Rectangle area:\", rectangle.area())\n",
    "print(\"Triangle area:\", triangle.area())"
   ]
  },
  {
   "cell_type": "markdown",
   "id": "3da4e75b",
   "metadata": {},
   "source": [
    "# Create a class Animal with attributes name and sound. Create subclasses Dog, Cat, and Cow that inherit from Animal and implement their specific sounds."
   ]
  },
  {
   "cell_type": "code",
   "execution_count": 13,
   "id": "5af6143a",
   "metadata": {},
   "outputs": [
    {
     "name": "stdout",
     "output_type": "stream",
     "text": [
      "REX says: Woof!\n",
      "WILLY says: Meow!\n",
      "BARN says: Moo!\n"
     ]
    }
   ],
   "source": [
    "# Define the Animal class\n",
    "class Animal:\n",
    "    def __init__(self, name):\n",
    "        self.name = name\n",
    "\n",
    "    def sound(self):\n",
    "        pass  # This method will be overridden in the subclasses\n",
    "\n",
    "# Define the Dog subclass\n",
    "class Dog(Animal):\n",
    "    def __init__(self, name):\n",
    "        super().__init__(name)\n",
    "\n",
    "    def sound(self):\n",
    "        return \"Woof!\"\n",
    "\n",
    "# Define the Cat subclass\n",
    "class Cat(Animal):\n",
    "    def __init__(self, name):\n",
    "        super().__init__(name)\n",
    "\n",
    "    def sound(self):\n",
    "        return \"Meow!\"\n",
    "\n",
    "# Define the Cow subclass\n",
    "class Cow(Animal):\n",
    "    def __init__(self, name):\n",
    "        super().__init__(name)\n",
    "\n",
    "    def sound(self):\n",
    "        return \"Moo!\"\n",
    "\n",
    "# Example usage\n",
    "dog = Dog(\"REX\")\n",
    "cat = Cat(\"WILLY\")\n",
    "cow = Cow(\"BARN\")\n",
    "\n",
    "print(f\"{dog.name} says: {dog.sound()}\")\n",
    "print(f\"{cat.name} says: {cat.sound()}\")\n",
    "print(f\"{cow.name} says: {cow.sound()}\")"
   ]
  },
  {
   "cell_type": "code",
   "execution_count": null,
   "id": "4ea8d50b",
   "metadata": {},
   "outputs": [],
   "source": []
  }
 ],
 "metadata": {
  "kernelspec": {
   "display_name": "Python 3 (ipykernel)",
   "language": "python",
   "name": "python3"
  },
  "language_info": {
   "codemirror_mode": {
    "name": "ipython",
    "version": 3
   },
   "file_extension": ".py",
   "mimetype": "text/x-python",
   "name": "python",
   "nbconvert_exporter": "python",
   "pygments_lexer": "ipython3",
   "version": "3.11.5"
  }
 },
 "nbformat": 4,
 "nbformat_minor": 5
}
