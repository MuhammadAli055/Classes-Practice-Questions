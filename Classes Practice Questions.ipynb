{
 "cells": [
  {
   "cell_type": "markdown",
   "id": "5e68cabf",
   "metadata": {},
   "source": [
    "# 1 Create a class Person with attributes name, age, and city."
   ]
  },
  {
   "cell_type": "code",
   "execution_count": 4,
   "id": "ed1a4866",
   "metadata": {},
   "outputs": [
    {
     "name": "stdout",
     "output_type": "stream",
     "text": [
      "ALi is 19 years old and he lives in Lahore.\n"
     ]
    }
   ],
   "source": [
    "class Person:\n",
    "    def __init__(self,name,age,city):\n",
    "        self.name=name\n",
    "        self.age=age\n",
    "        self.city=city\n",
    "per1=Person(\"ALi\",19,\"Lahore\")\n",
    "print(f\"{per1.name} is {per1.age} years old and he lives in {per1.city}.\")"
   ]
  },
  {
   "cell_type": "markdown",
   "id": "c76405f7",
   "metadata": {},
   "source": [
    "# 2 Create a class Car with attributes make, model, and year."
   ]
  },
  {
   "cell_type": "code",
   "execution_count": 6,
   "id": "d4fc2a05",
   "metadata": {},
   "outputs": [
    {
     "name": "stdout",
     "output_type": "stream",
     "text": [
      "The newest car manufactured is Audi its model is A7e6 in the year 2021\n"
     ]
    }
   ],
   "source": [
    "class Car:\n",
    "    def __init__(self,make,model,year):\n",
    "        self.make=make\n",
    "        self.model=model\n",
    "        self.year=year\n",
    "car1=Car(\"Audi\",\"A7e6\",2021)\n",
    "print(f\"The newest car manufactured is {car1.make} its model is {car1.model} in the year {car1.year}\")"
   ]
  },
  {
   "cell_type": "markdown",
   "id": "fbc61dc1",
   "metadata": {},
   "source": [
    "# 3 Create a class Circle with attributes radius and methods to calculate area and circumference."
   ]
  },
  {
   "cell_type": "code",
   "execution_count": 9,
   "id": "c6235c18",
   "metadata": {},
   "outputs": [
    {
     "name": "stdout",
     "output_type": "stream",
     "text": [
      "The area of circle is= 201.088\n",
      "The circumference of the circle is = 50.272\n",
      "\n",
      "The area of circle is= 113.112\n",
      "The circumference of the circle is = 37.704\n"
     ]
    }
   ],
   "source": [
    "class Circle:\n",
    "    def __init__(self,radius):\n",
    "        self.radius=radius\n",
    "    def get_area(self):\n",
    "        ar=3.142*(self.radius**2)\n",
    "        print(f\"The area of circle is= {ar}\")\n",
    "    def get_circumference(self):\n",
    "        cr=2*3.142*self.radius\n",
    "        print(f\"The circumference of the circle is = {cr}\")      \n",
    "              \n",
    "c1=Circle(8)\n",
    "c1.get_area()\n",
    "c1.get_circumference()\n",
    "print()\n",
    "c2=Circle(6)\n",
    "c2.get_area()\n",
    "c2.get_circumference()\n"
   ]
  },
  {
   "cell_type": "markdown",
   "id": "43a1653f",
   "metadata": {},
   "source": [
    "# 4 Create a class Rectangle with attributes length and width and methods to calculate area and perimeter."
   ]
  },
  {
   "cell_type": "code",
   "execution_count": 11,
   "id": "54be0c15",
   "metadata": {},
   "outputs": [
    {
     "name": "stdout",
     "output_type": "stream",
     "text": [
      "The area of rectangle= 1125\n",
      "The perimeter of rectangle= 140\n"
     ]
    }
   ],
   "source": [
    "class Rectangle:\n",
    "    def __init__(self,length,width):\n",
    "        self.length=length\n",
    "        self.width=width\n",
    "    def area(self):\n",
    "        ar=self.length*self.width\n",
    "        print(f\"The area of rectangle= {ar}\")\n",
    "    def perimeter(self):\n",
    "        per=2*(self.length+self.width)\n",
    "        print(f\"The perimeter of rectangle= {per}\")\n",
    "\n",
    "rec1=Rectangle(45,25)\n",
    "rec1.area()\n",
    "rec1.perimeter()"
   ]
  },
  {
   "cell_type": "markdown",
   "id": "24271713",
   "metadata": {},
   "source": [
    "# 5 Create a class Student with attributes name, roll_number, and marks. Implement a method to calculate the average marks."
   ]
  },
  {
   "cell_type": "code",
   "execution_count": 3,
   "id": "d5a6c626-89a4-473a-a4fb-94ae6bf60be9",
   "metadata": {},
   "outputs": [
    {
     "name": "stdout",
     "output_type": "stream",
     "text": [
      "The name of the student is Ali and his Roll No is FA24-BBD-055\n",
      "The average of the student's marks = 93.16666666666667\n"
     ]
    }
   ],
   "source": [
    "class Student:\n",
    "    def __init__(self,name,roll_no,marks):\n",
    "        self.name=name\n",
    "        self.roll_no=roll_no\n",
    "        self.marks=marks\n",
    "    def get_avg(self):\n",
    "        sum=0\n",
    "        for val in self.marks:\n",
    "            sum+=val\n",
    "        average=sum/len(self.marks)\n",
    "        print(f\"The average of the student's marks = {average}\")\n",
    "s1=Student(\"Ali\",\"FA24-BBD-055\",[100,95,93,84,89,98])\n",
    "print(f\"The name of the student is {s1.name} and his Roll No is {s1.roll_no}\")\n",
    "s1.get_avg()"
   ]
  },
  {
   "cell_type": "markdown",
   "id": "c132f654-20e8-412f-a820-021fc8681220",
   "metadata": {},
   "source": [
    "# 6 Create a class Book with attributes title, author, and publication_year."
   ]
  },
  {
   "cell_type": "code",
   "execution_count": 11,
   "id": "b882475d-49b1-4b6f-ade7-2b10ba5a333d",
   "metadata": {},
   "outputs": [
    {
     "name": "stdout",
     "output_type": "stream",
     "text": [
      "Details of the book are:\n",
      "\n",
      "The name of the book is Let Me In.\n",
      "Its author name is Stephen Hawkins.\n",
      "It is published in the year 2021.\n"
     ]
    }
   ],
   "source": [
    "class Book:\n",
    "    def __init__(self,title,author,publication_year):\n",
    "        print (\"Details of the book are:\")\n",
    "        self.title=title\n",
    "        self.author=author\n",
    "        self.publication_year=publication_year\n",
    "\n",
    "book1=Book(\"Let Me In\",\"Stephen Hawkins\",2021)\n",
    "print()\n",
    "print(f\"The name of the book is {book1.title}.\\nIts author name is {book1.author}.\\nIt is published in the year {book1.publication_year}.\")"
   ]
  },
  {
   "cell_type": "markdown",
   "id": "e9bb5b3d-7644-4b88-adb3-3fd38b4594c8",
   "metadata": {},
   "source": [
    "# 7 Create a class Employee with attributes name, salary, and designation."
   ]
  },
  {
   "cell_type": "code",
   "execution_count": 17,
   "id": "ccc5da4e-59c4-44de-9cba-b5b9491d6ceb",
   "metadata": {},
   "outputs": [
    {
     "name": "stdout",
     "output_type": "stream",
     "text": [
      "The details of the employee are:\n",
      "\n",
      "The name of the employee is Ali.\n",
      "His salary is 375000.\n",
      "His designation is a Data Scientist\n"
     ]
    }
   ],
   "source": [
    "class Employee:\n",
    "    def __init__(self,name,salary,designation):\n",
    "        print(\"The details of the employee are:\")\n",
    "        self.name=name\n",
    "        self.salary=salary\n",
    "        self.designation=designation\n",
    "\n",
    "employe1=Employee(\"Ali\",375000,\"Data Scientist\")\n",
    "print()\n",
    "print(f\"The name of the employee is {employe1.name}.\\nHis salary is {employe1.salary}.\\nHis designation is a {employe1.designation}\")\n",
    "\n",
    "    "
   ]
  },
  {
   "cell_type": "markdown",
   "id": "5b2f8949-3822-4f81-8d78-96859fa19cde",
   "metadata": {},
   "source": [
    "# 8 Create a class Bank with attributes name, account_number, and balance. Implement methods to deposit and withdraw money."
   ]
  },
  {
   "cell_type": "code",
   "execution_count": 37,
   "id": "62496f2b-66b2-44a9-9749-35b836a7cda5",
   "metadata": {},
   "outputs": [
    {
     "name": "stdout",
     "output_type": "stream",
     "text": [
      "The name of the customer's bank is HBL.\n",
      "His account number is 123456788988.\n",
      "The balance in his account is 5000000\n",
      "\n",
      "Deposited ammount =50000\n",
      "New balance = 5050000\n",
      "\n",
      "Withdrew $100000. \n",
      "New balance: $4950000\n"
     ]
    }
   ],
   "source": [
    "class Bank:\n",
    "    def __init__(self,name,account_number,balance):\n",
    "        self.name=name\n",
    "        self.account_number=account_number\n",
    "        self.balance=balance\n",
    "\n",
    "    def deposit(self,ammount):\n",
    "        if ammount ==0:\n",
    "            print(\"Deposit amount must be greater than zero.\")\n",
    "        else:\n",
    "            self.balance+=ammount\n",
    "            print(f\"Deposited ammount ={ammount}\\nNew balance = {self.balance}\")\n",
    "\n",
    "    def withdraw(self,fig):\n",
    "        if fig>0:\n",
    "            if fig<self.balance:\n",
    "                self.balance-=fig\n",
    "                print(f\"Withdrew ${fig}. \\nNew balance: ${self.balance}\")\n",
    "            else:\n",
    "                print(\"Insufficient funds.\")\n",
    "        else:\n",
    "             print(\"Withdrawal amount must be greater than zero.\")\n",
    "\n",
    "bank1=Bank(\"HBL\",123456788988,5000000)\n",
    "print(f\"The name of the customer's bank is {bank1.name}.\\nHis account number is {bank1.account_number}.\\nThe balance in his account is {bank1.balance}\")\n",
    "print()\n",
    "bank1.deposit(50000)\n",
    "print()\n",
    "bank1.withdraw(100000)\n",
    "\n",
    "        \n",
    "        "
   ]
  },
  {
   "cell_type": "code",
   "execution_count": null,
   "id": "d6b9a017-0d23-4a00-8713-cbf83b709453",
   "metadata": {},
   "outputs": [],
   "source": []
  },
  {
   "cell_type": "code",
   "execution_count": null,
   "id": "830ff286-8e65-4828-aab5-fd74c9d0f5c1",
   "metadata": {},
   "outputs": [],
   "source": []
  }
 ],
 "metadata": {
  "kernelspec": {
   "display_name": "Python 3 (ipykernel)",
   "language": "python",
   "name": "python3"
  },
  "language_info": {
   "codemirror_mode": {
    "name": "ipython",
    "version": 3
   },
   "file_extension": ".py",
   "mimetype": "text/x-python",
   "name": "python",
   "nbconvert_exporter": "python",
   "pygments_lexer": "ipython3",
   "version": "3.12.4"
  }
 },
 "nbformat": 4,
 "nbformat_minor": 5
}
